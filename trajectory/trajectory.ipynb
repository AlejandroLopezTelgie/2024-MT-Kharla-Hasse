{
 "cells": [
  {
   "cell_type": "markdown",
   "metadata": {},
   "source": [
    "# SOUNDING ROCKET TRAYECTORY"
   ]
  },
  {
   "cell_type": "markdown",
   "metadata": {},
   "source": [
    "https://www.youtube.com/watch?v=85jVEUl4u0Q&ab_channel=TheShowDan"
   ]
  },
  {
   "cell_type": "markdown",
   "metadata": {},
   "source": [
    "$$ \\frac{d^2 x}{dt^2}=a=-g  [m/s]$$\n",
    "\n",
    "$$ x(t)=-\\frac{1}{2}gt^2+V_0+x_0 $$\n",
    "\n",
    "$$ y(t)=-\\frac{1}{2}gt^2+V_0+y_0 $$"
   ]
  },
  {
   "cell_type": "markdown",
   "metadata": {},
   "source": [
    "## Tiro Vertical"
   ]
  },
  {
   "cell_type": "markdown",
   "metadata": {},
   "source": [
    "\n",
    "### Hacia arriba ( $\\theta$ = 90°)\n",
    "Posiciones\n",
    "$$ x=0 $$\n",
    "$$ y=-\\frac{1}{2}gt^2+V_0+y_0 $$\n",
    "\n",
    "Tiempo de ascenso\n",
    "$$ t_{ascenso} = \\frac{V_0}{g} $$\n",
    "\n",
    "Tiempo de vuelo total\n",
    "$$ t_{total} = 2t_{ascenso} = 2\\frac{V_0}{g} $$\n",
    "\n",
    "Altura máxima\n",
    "$$ y_{max} = y_0 + \\frac{V_0^2}{2g} $$"
   ]
  },
  {
   "cell_type": "code",
   "execution_count": 12,
   "metadata": {},
   "outputs": [
    {
     "name": "stdout",
     "output_type": "stream",
     "text": [
      "Condiciones no válidas\n"
     ]
    }
   ],
   "source": [
    "import numpy as np\n",
    "import matplotlib.pyplot as plt\n",
    "\n",
    "#Condiciones iniciales\n",
    "theta = 0\n",
    "y_0 = 0\n",
    "x_0 = 0\n",
    "v_0 = 1400 #m/s\n",
    "g = 9.81 #m/s2\n",
    "\n",
    "#Convertir grados a radianes\n",
    "conv_grad = np.pi / 180\n",
    "theta_rad = theta * conv_grad\n",
    "\n",
    "#Gráfica\n",
    "def grafica(x,y,x_0,y_0):\n",
    "    plt.figure(figsize=(6,4))\n",
    "    plt.plot(x, y, lw=0.7, color='black')\n",
    "    plt.scatter([x_0],[y_0], color='black')\n",
    "    plt.xlabel('Distancia (m)', fontsize=10)\n",
    "    plt.ylabel('Altura (m)', fontsize=10)\n",
    "    plt.title('Trayectoria del Sounding Rocket' , fontsize=12)\n",
    "    plt.grid(True)\n",
    "    plt.show()\n",
    "\n",
    "#Tiro vertical\n",
    "if theta == 90:\n",
    "    #Tiempo de ascenso\n",
    "    t_ascenso = v0 / g\n",
    "\n",
    "    #Tiempo de vuelo total\n",
    "    t_tot = 2 * t_ascenso\n",
    "\n",
    "    #Tiempo de simulación\n",
    "    t = np.linspace(0,t_tot,100)\n",
    "\n",
    "    #Posiciones\n",
    "    x = np.zeros(100)\n",
    "    y = -0.5 * g * t**2 + v_0 * t + y_0\n",
    "\n",
    "    #Altura máxima \n",
    "    y_max = y_0 + v_0**2 / (2 * g)\n",
    "\n",
    "\n",
    "    grafica(x,y,x_0,y_0)\n",
    "    print(f'La altura máxima es: {y_max:.2f} m')\n",
    "    print(f'El tiempo de ascenso es: {t_ascenso:.2f} s')\n",
    "    print(f'El tiempo total es: {t_tot:.2f} s')\n",
    "\n",
    "else:\n",
    "    print('Condiciones no válidas')"
   ]
  },
  {
   "cell_type": "markdown",
   "metadata": {},
   "source": [
    "## Caso General"
   ]
  },
  {
   "cell_type": "markdown",
   "metadata": {},
   "source": [
    "\n",
    "Posiciones\n",
    "$$ x = V_0*cos(\\theta)t + x_0 $$\n",
    "$$ y = -\\frac{1}{2}gt^2 + V_0sin(\\theta)t + y_0 $$\n",
    "\n",
    "Tiempo para distancia máxima \n",
    "$$ t_{max}=\\frac{V_0sin(\\theta) + \\sqrt{(V_0sin(\\theta))^2 + 2gy_0}}{g}  $$\n",
    "\n",
    "Distancia máxima\n",
    "$$ x_{max} = x_0 + V_0cos(\\theta)t_{max} $$\n",
    "\n",
    "Altura máxima\n",
    "$$ y_{max} = y_0 + \\frac{V_0^2sin^2(\\theta)}{2g} $$\n",
    "\n",
    "Velocidad final\n",
    "$$ V_f = \\sqrt{V_0^2 + 2g(x_{max} - x_0)} $$"
   ]
  },
  {
   "cell_type": "code",
   "execution_count": 14,
   "metadata": {},
   "outputs": [
    {
     "name": "stdout",
     "output_type": "stream",
     "text": [
      "Condiciones no válidas\n"
     ]
    }
   ],
   "source": [
    "import numpy as np\n",
    "import matplotlib.pyplot as plt\n",
    "\n",
    "#Condiciones iniciales\n",
    "theta = 100 #[°] Angulo de lanzamiento\n",
    "y_0 = 0 #[m] Posición inicial eje y\n",
    "x_0 = 0 #[m] Posición inicial eje x\n",
    "v_0 = 1000 #[m/s] Vel inicial (Parte desde el reposo) 100 o 150 m/s es un valor razonable\n",
    "g = 9.81 #[m/s^2] Aceleración de gravedad\n",
    "\n",
    "#Convertir grados a radianes\n",
    "conv_grad = np.pi / 180\n",
    "theta_rad = theta * conv_grad\n",
    "\n",
    "#Gráfica\n",
    "def grafica(x,y,x_0,y_0):\n",
    "    plt.figure(figsize=(6,4))\n",
    "    plt.plot(x, y, lw=0.7, color='black')\n",
    "    plt.scatter([x_0],[y_0], color='black')\n",
    "    plt.xlabel('Distancia (m)', fontsize=10)\n",
    "    plt.ylabel('Altura (m)', fontsize=10)\n",
    "    plt.title('Trayectoria del Sounding Rocket' , fontsize=12)\n",
    "    plt.grid(True)\n",
    "    plt.show()\n",
    "\n",
    "\n",
    "#Caso general\n",
    "if -90 < theta < 90:\n",
    "    #Tiempo para la distancia máxima (y=0)\n",
    "    t_max = (v_0 * np.sin(theta_rad) + np.sqrt((v_0 * np.sin(theta_rad))**2 + 2 * g * y_0)) / g\n",
    "\n",
    "    #Tiempo de simulación\n",
    "    t = np.linspace(0,t_max,100)\n",
    "\n",
    "    #Posiciones\n",
    "    x = v_0 * np.cos(theta_rad) * t + x_0\n",
    "    y = v_0 * np.sin(theta_rad) * t - 0.5 * g * t**2 + y_0\n",
    "\n",
    "    #Distancia máxima\n",
    "    x_max = x_0 + v_0 * np.cos(theta_rad) * t_max\n",
    "\n",
    "    #Altura máxima\n",
    "    y_max = y_0 + (v_0**2 * np.sin(theta_rad)**2) / (2 * g)\n",
    "\n",
    "    #Velocidad final\n",
    "    v_f = np.sqrt(v_0**2 + 2 * g * (x_max - x_0))\n",
    "\n",
    "    grafica(x,y,x_0,y_0)\n",
    "    print(f'La distancia máxima es: {x_max:.2f} m')\n",
    "    print(f'La altura máxima es: {y_max:.2f} m')\n",
    "    print(f'La velocidad final es: {v_f:.2f} m/s')\n",
    "\n",
    "else:\n",
    "    print('Condiciones no válidas')\n",
    "\n"
   ]
  },
  {
   "cell_type": "markdown",
   "metadata": {},
   "source": [
    "## Código General (considera ambos casos)"
   ]
  },
  {
   "cell_type": "code",
   "execution_count": 9,
   "metadata": {},
   "outputs": [
    {
     "data": {
      "image/png": "[encoded data removed]",
      "text/plain": [
       "<Figure size 600x400 with 1 Axes>"
      ]
     },
     "metadata": {},
     "output_type": "display_data"
    },
    {
     "name": "stdout",
     "output_type": "stream",
     "text": [
      "La distancia máxima es: 4.95 km\n",
      "La altura máxima es: 70.95 km\n",
      "La velocidad final es: 1180.04 m/s\n"
     ]
    }
   ],
   "source": [
    "import numpy as np\n",
    "import matplotlib.pyplot as plt\n",
    "\n",
    "#Condiciones iniciales\n",
    "theta = 89 #[°] Angulo de lanzamiento\n",
    "y_0 = 0 #[m] Posición inicial eje y\n",
    "x_0 = 0 #[m] Posición inicial eje x\n",
    "v_0 = 1180 #[m/s] Vel inicial (Parte desde el reposo) 100 o 150 m/s es un valor razonable\n",
    "g = 9.81 #[m/s^2] Aceleración de gravedad\n",
    "\n",
    "#Convertir grados a radianes\n",
    "conv_grad = np.pi / 180\n",
    "theta_rad = theta * conv_grad\n",
    "\n",
    "#Gráfica\n",
    "def grafica(x,y,x_0,y_0):\n",
    "    plt.figure(figsize=(6,4))\n",
    "    plt.plot(x, y, lw=0.7, color='black')\n",
    "    plt.scatter([x_0],[y_0], color='black')\n",
    "    plt.xlabel('Distancia [km]', fontsize=10)\n",
    "    plt.ylabel('Altura [km]', fontsize=10)\n",
    "    plt.title('Trayectoria del Sounding Rocket', fontsize=12)\n",
    "    plt.grid(True)\n",
    "    plt.show()\n",
    "\n",
    "#Tiro vertical\n",
    "if theta == 90:\n",
    "    t_ascenso = v_0 / g #Tiempo de ascenso\n",
    "    \n",
    "    t_tot = 2 * t_ascenso #Tiempo de vuelo total\n",
    "\n",
    "    t = np.linspace(0,t_tot,100)    #Tiempo de simulación\n",
    "\n",
    "    #Posiciones\n",
    "    x = np.zeros(100)\n",
    "    y = -0.5 * g * t**2 + v_0 * t + y_0\n",
    "\n",
    "    y_max = y_0 + v_0**2 / (2 * g)     #Altura máxima \n",
    "\n",
    "    grafica(x,y,x_0,y_0)\n",
    "    print(f'La altura máxima es: {y_max:.2f} m')\n",
    "    print(f'El tiempo de ascenso es: {t_ascenso:.2f} s')\n",
    "    print(f'El tiempo total es: {t_tot:.2f} s')\n",
    "\n",
    "#Caso general\n",
    "elif -90 < theta < 90:\n",
    "    #Tiempo para la distancia máxima (y=0)\n",
    "    t_max = (v_0 * np.sin(theta_rad) + np.sqrt((v_0 * np.sin(theta_rad))**2 + 2 * g * y_0)) / g\n",
    "\n",
    "    #Tiempo de simulación\n",
    "    t = np.linspace(0,t_max,100)\n",
    "\n",
    "    #Posiciones\n",
    "    x = (v_0 * np.cos(theta_rad) * t + x_0) / 1000\n",
    "    y = (v_0 * np.sin(theta_rad) * t - 0.5 * g * t**2 + y_0) / 1000\n",
    "\n",
    "    #Distancia máxima\n",
    "    x_max_m = x_0 + v_0 * np.cos(theta_rad) * t_max\n",
    "    x_max = x_max_m / 1000\n",
    "\n",
    "    #Altura máxima\n",
    "    y_max_m = y_0 + (v_0**2 * np.sin(theta_rad)**2) / (2 * g)\n",
    "    y_max = y_max_m / 1000\n",
    "\n",
    "    #Velocidad final\n",
    "    v_f = np.sqrt(v_0**2 + 2 * g * (x_max - x_0))\n",
    "\n",
    "    grafica(x,y,x_0,y_0)\n",
    "    print(f'La distancia máxima es: {x_max:.2f} km')\n",
    "    print(f'La altura máxima es: {y_max:.2f} km')\n",
    "    print(f'La velocidad final es: {v_f:.2f} m/s')\n",
    "\n",
    "else:\n",
    "    print('Condiciones no válidas')\n",
    "\n",
    "\n",
    " "
   ]
  }
 ],
 "metadata": {
  "kernelspec": {
   "display_name": "Python 3",
   "language": "python",
   "name": "python3"
  },
  "language_info": {
   "codemirror_mode": {
    "name": "ipython",
    "version": 3
   },
   "file_extension": ".py",
   "mimetype": "text/x-python",
   "name": "python",
   "nbconvert_exporter": "python",
   "pygments_lexer": "ipython3",
   "version": "3.11.9"
  }
 },
 "nbformat": 4,
 "nbformat_minor": 2
}
