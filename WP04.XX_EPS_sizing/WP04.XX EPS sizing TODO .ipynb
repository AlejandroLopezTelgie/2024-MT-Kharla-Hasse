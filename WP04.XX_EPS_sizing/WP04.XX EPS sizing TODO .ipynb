{
 "cells": [
  {
   "cell_type": "markdown",
   "metadata": {},
   "source": [
    "## WP04.XX RoM models / EPS sizing TO DO\n",
    "\n",
    "To provide a common reference for the system conception, the product breakdown structure (PBS) of the CubeSat buses is based on the CubeSat System Reference Model (CSRM) and hence follows the CubeSat subsystems as named/defined by David Kaslow and the CSRM team https://www.davidkaslow.com/cubesat-ref-model.\n",
    "\n",
    "Fig. XX High-level logical architecture for the CubeSat System Reference Model. Source: [Kaslow 2024]\n",
    "\n",
    "![\n",
    "    High level logical architecture for CSRM. Source: Kaslow 2024.\n",
    "](\n",
    "    WP04.XX_EPS_sizing/Figs/CSRM_PBS-Kaslow_2024.png\n",
    ")\n",
    "\n",
    "\n",
    "Follows the CubeSat System Reference Model (CSRM) nomenclature for the Power Subsystem breakdown, i.e.\n",
    "\n",
    "Power_Subsystem\n",
    "- Power conversion, distribution and control\n",
    "- Power generation\n",
    "- Power storage"
   ]
  },
  {
   "cell_type": "markdown",
   "metadata": {},
   "source": [
    "# Solar arrays sizing (Generalization)\n",
    "\n",
    "The approach towards the solar arrays sizing for cost-effective mission and based on reliability and KISS principle, starts with body mounted solar arrays with a maximum of 7 cells per 3 U side, and 4 panels in a satellites (this might also be two)\n",
    "Sequence follows as need for more power is assessed by including deployable solar arrays which increased the suface available (this is in line with the developments seen un clusters like Planet's Doves and Spire's Lemyr)"
   ]
  },
  {
   "cell_type": "markdown",
   "metadata": {},
   "source": [
    "# 2 Solar arrays sizing [Valispace Tutorial]\n",
    "## 2.1. Design sequence\n",
    "### 2.1.1. Estimation of power required from solar arrays\n",
    "The satellite's solar arrays must be able to provide enough power to support the spacecraft's operations when in sunlight, but also recharge the batteries during eclipses. The power required from the solar arrays $P_{sa}$ will then depend on the power required during daylight, the time of daylight, the power required during the eclipse, the time of eclipse, and the efficiencies of power transfer (from arrays to loads $\\chi_d$ and from arrays to batteries and then to loads $\\chi_e$):\n",
    "\n",
    "$$ P_{sa}=\\frac{\\frac{P_d t_d}{\\chi_d}+\\frac{P_e t_e}{\\chi_e}}{t_d} $$\n",
    "\n",
    "where:\n",
    "- P:Power\n",
    "- _{sa}: solar arrays\n",
    "\n",
    "- With a daylight power request of 810.0 W \n",
    "- a time of daylight of 5481.50255205 s, \n",
    "- an eclipse power request of 688.5 W, \n",
    "- a time of eclipse of 982.523770149 s,\n",
    "- and efficiencies \\chi_d and \\chi_e respectively 0.8  and 0.6 , \n",
    "the total power that the solar arrays must provide is 1.21818193037 kW."
   ]
  },
  {
   "cell_type": "markdown",
   "metadata": {},
   "source": [
    "## Solar array sizing [AL - MSc Thesis]\n",
    "\n",
    "$$\n",
    "P_{sa}=S_{AM0}\\eta_{sc}A_{sp}\n",
    "$$\n",
    "\n",
    "Where:\n",
    "- $P_{sa}$ is the solar array (or panel) power in [W]\n",
    "- $S_{AM0}$ is the solar contant in orbit $~1368 [W/m^2]$\n",
    "- $A_{sp}$ is the area exposed to the sunlight in $[m^2], which is a result fo the amount of sollar cells $_sc$ one can fit in a panel. For cubesat this is 7 in a 3 U $30cm \\times 10cm$ panel, with each cell in the ball park area of \n",
    "\n",
    "@CHECK MSc thesis sizing ALT 2014\n",
    "\n",
    "- $\\eta_{sc}$ efficiency of solar cell, for triple juntion this can reach 358%, yet for sizing we use 30% initially (this should be updated to reflect vendor specs.)\n",
    "\n",
    "For practice matters the panel is sized following vendor specs as 7 to 8 [W] per panel. \n",
    "@Add specs ref\n",
    "\n",
    "In a body mounted satellite, in te case of a CubeSat, one can assume the maximum area esposed to be $(2)^{1/2}\\approx 1.41$\n",
    "\n"
   ]
  },
  {
   "cell_type": "code",
   "execution_count": 4,
   "metadata": {},
   "outputs": [
    {
     "name": "stdout",
     "output_type": "stream",
     "text": [
      "Satellite power is $P_{sat}$ in [W] 11.313708498984761\n"
     ]
    }
   ],
   "source": [
    "# The standard way to import NumPy:\n",
    "import numpy as np\n",
    "\n",
    "#P_sa=[]\n",
    "#P_sat=[]\n",
    "\n",
    "P_sa=8 #[W]\n",
    "P_sat=(2)**(1/2)*P_sa #[W]\n",
    "print('Satellite power is $P_{sat}$ in [W]',P_sat)\n",
    "\n",
    "S_AM0=1368 # [W/m^2] Solar constant in LEO\n",
    "eta_sc=30 #% efficiency set for a TJ cell, check vendor Specs for update (can be 35% also)\n",
    "A_sc=7*\n",
    "\n",
    "P_sa=S_AM0*eta_sc*A_sc"
   ]
  },
  {
   "cell_type": "markdown",
   "metadata": {},
   "source": [
    "###  2.1.2. Ideal power flux density evaluation\n",
    "Considering that the solar flux density (in $W/m^2$) at Earth orbit has an average value of $1368.0 W/m^2$, the different solar cell technologies have a different\n",
    "value for efficiency $\\eta_{cell}$. Considering Ga-As cells with efficiency 0.36, allows to calculate the ideal power flux density collected by the panels:\n",
    "\n",
    "$$ \\Phi_{ideal}=C_S\\eta_{cell} $$\n",
    "\n",
    "The resulting ideal solar flux is 492.48 W/m**2.\n"
   ]
  },
  {
   "cell_type": "markdown",
   "metadata": {},
   "source": [
    "### 2.1.5. Sizing of solar arrays area and mass\n",
    "To evaluate the required area of solar arrays, it is necessary to confront the required power with the actual capacity of the solar array technology with the following formula:\n",
    "\n",
    "$$ A_{sa}=\\frac{P_{sa}}{\\Phi_{EOL}} $$\n",
    "\n",
    "AL NOTE: EOL stands for End-of-Life performance (where the array or cell has been degraded)\n",
    "\n",
    "\n",
    "The resulting area will be $3.66863963818 m^2$ To compute the solar arrays mass, an area density $\\rho_{area}$ in $kg/m^2$ is used:\n",
    "\n",
    "$$ M_{sa}=A_{sa}\\rho_{sa} $$\n",
    "\n",
    "Choosing an area density of $10.0 kg/m^2$, the resulting mass is 36.6863963818 kg."
   ]
  },
  {
   "cell_type": "markdown",
   "metadata": {},
   "source": [
    "# 3. Battery sizing\n",
    "## 3.1. Introduction\n",
    "### 3.1.1. Technology values\n",
    "The technology chosen for the battery is Lithium-Ion; the main technological parameters are reported in the following table."
   ]
  },
  {
   "cell_type": "markdown",
   "metadata": {},
   "source": [
    "## 3.2. Design sequence\n",
    "### 3.2.1. Capacity required during the eclipse\n",
    "\n",
    "\n",
    "This first step consists in evaluating the power needed by the system during the eclipse. In the case of ValiSat, it was determined that this power corresponds to the maximum of the four modes (nominal, peak, standby, off). This results in a power request of 810.0 W.\n",
    "The eclipse time depends on the orbit. For ValiSat, this value results of 982.523770149 s.\n",
    "Finally the required capacity of the battery can be calculated with the following formula:\n",
    "\n",
    "$$ C_{req}=P_{req}t_e $$\n",
    "\n",
    "The resulting value is $187.907671041 W*h$\n",
    "\n",
    "\n",
    "### 3.2.2. Capacity at End of Life (EOL)\n",
    "To evaluate the capacity that the battery must have at the End of Life, it is necessary to take into account its inherent efficiency (not related to time) and the chosen Depth of Discharge. The capacity will then be:\n",
    "\n",
    "$$ C_{EOL}=\\frac{C_{req}}{\\eta_{bat}DOD} $$\n",
    "\n",
    "With a battery efficiency of 1.045 and a DOD of 35.0 percent, the resulting capacity at End of Life is 513.759866141 W*h"
   ]
  },
  {
   "cell_type": "markdown",
   "metadata": {},
   "source": [
    "### 3.2.3. Capacity at Begin of Life (BOL)\n",
    "\n",
    "\n",
    "The capacity of the battery at BOL is evaluated taken into account the battery life time and the degradation rate that it will accumulate with time:\n",
    "\n",
    "$$ C_{BOL}=\\frac{C_{EOL}}{1-F_{fading}N_{years}} $$\n",
    "\n",
    "For a 5.0 years 3.35 A*h mission and with a degradation of 0.00736 1/years 0.2 deg, the capacity at BOL is 533.388565346 W*h 13.74 kg, which corresponds to 19049.5916195 mA*h if a voltage of 28.0 V is considered.\n",
    "\n",
    "\n",
    "### 3.2.4. Estimation of mass and volume\n",
    "Specific mass and energy density depend on the battery technology chosen. In the following table, various technologies are reported with the relative values.\n",
    "\n",
    "@add table\n",
    "@add fig\n",
    "\n",
    "For this exercise, a Lithium-Ion battery is chosen.\n",
    "\n",
    "\n",
    "\n",
    "\n",
    "Now, once capacity is assessed, empirical values for specific mass \\(m_{spec}\\)\n",
    "(measured in Wh/kg) are used to estimate the mass with the following formula:\n",
    "Choosing a specific mass of 300.0 W*h/liter, the resulting battery mass is\n",
    "3.04793465912 kg﻿.\n",
    "The volume of the battery depends on the energy density (in Wh/liter), which is\n",
    "another parameter depending on the chosen technology. Considering the\n",
    "formula:\n",
    "With an energy density of 300.0 W*h/liter, the total volume is 1.77796188449 l."
   ]
  },
  {
   "cell_type": "markdown",
   "metadata": {},
   "source": [
    "# References\n",
    "\n",
    "- Kaslow 2024 - https://www.davidkaslow.com/cubesat-ref-model (accessed 2024-04-18)\n",
    "- Larson & Werts 1999 - SMAD\n",
    "- Mirandah Ackley 2018 - Valispace EPS sizing tutorial https://www.valispace.com/wp-content/uploads/2018/12/EPS-sizing-tutorial-1.pdf"
   ]
  }
 ],
 "metadata": {
  "kernelspec": {
   "display_name": "Python 3",
   "language": "python",
   "name": "python3"
  },
  "language_info": {
   "codemirror_mode": {
    "name": "ipython",
    "version": 3
   },
   "file_extension": ".py",
   "mimetype": "text/x-python",
   "name": "python",
   "nbconvert_exporter": "python",
   "pygments_lexer": "ipython3",
   "version": "3.11.9"
  }
 },
 "nbformat": 4,
 "nbformat_minor": 2
}
