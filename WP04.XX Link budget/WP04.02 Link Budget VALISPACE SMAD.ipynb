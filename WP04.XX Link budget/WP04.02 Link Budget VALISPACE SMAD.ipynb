{
 "cells": [
  {
   "cell_type": "markdown",
   "metadata": {},
   "source": [
    "## WP04.02 Link budget [Valispace & SMAD]\n",
    "\n",
    "This algorithm allows for an early estimation of the communication link between a transmitter (TX) and a receiver (RX). The focus is on the downlink, i.e. when the satellite (sat) is trasmitting and the ground station (GS) is receiving.\n",
    "The uplink is neglected in the scope of this work, as its assumed that the ground station has more than enough power to transmit succesfully the required commands to the spacecraft.\n",
    "\n",
    "### Design process for downlink\n",
    "\n",
    "To design a communications link, several stepts should be taken (prior to the assessment).\n",
    "This script provides prepopulated data for scenarios suitable for CubeSats in low Earth orbit (LEO)"
   ]
  },
  {
   "cell_type": "markdown",
   "metadata": {},
   "source": [
    "The first step consists of choosing key parameters for the link. The frequency of transmission selected is 8.0 GHz, in the X band. \n",
    "\n",
    "$$\n",
    "R_{DL}=\\frac{D*M}{F t_{max}-t_{iniciate}}\n",
    "$$\n",
    "\n",
    "To evaluate the data rate, various parameters are needed:\n",
    "- $D [bits]$ total amount of data sent\n",
    "- $M [-]$ a margin factor\n",
    "- $F [-]$ Fractional reduction\n",
    "- $t_{max} [s]$ the maximum time during which the ground station is in view \n",
    "- $t_{initiate} [s]$ the required initiation time \n",
    "\n",
    "Considering a data package of 20.0 kB, with a margin factor of 2.0, a maximum time of 840.0 s with a fractional reduction of 0.5 and an initiation time for the satellite of 100.0 s, the resulting data-rate is 125.0 B/s."
   ]
  },
  {
   "cell_type": "code",
   "execution_count": 5,
   "metadata": {},
   "outputs": [
    {
     "name": "stdout",
     "output_type": "stream",
     "text": [
      "::set-output name=R_D::0.125[b/s]\n"
     ]
    }
   ],
   "source": [
    "D=20    #[kB] Total data\n",
    "M=2     #[-] Margin\n",
    "F=0.5   #[-] Fractional reduction\n",
    "t_max=840   #[s]\n",
    "t_iniciate=100  #[s]max\n",
    "\n",
    "R_D=(D*M)/(F*t_max-t_iniciate)  #[kB/s]\n",
    "\n",
    "print(f'::set-output name=R_D::{R_D}[kB/s]')"
   ]
  },
  {
   "cell_type": "markdown",
   "metadata": {},
   "source": [
    "### 1.2.2. Transmitting system\n",
    "#### 1.2.2.1. Transmission power\n",
    "The transmitting system on the satellite is characterised by various parameters.\n",
    "\n",
    "First of all, the transmission power is selected (after evaluating the link margin,this will be one of the parameters to increase performance). In this case, it is $30.0 W$, which corresponds to $14.7712125472 dB$ (the peak consumption of the transmitter component was chosen).\n",
    "\n",
    "@AL Update Power to Gain Ecuation in model\n",
    "\n",
    "\n",
    "#### 1.2.2.2. Estimation of losses between transmitter and antenna\n",
    "\n",
    "To estimate the losses between the transmitter and the antenna L_{tx}, some considerations can be done, taking into account the length of cabling between the transmission system's components. In this preliminary sizing activity, these losses are estimated to be 2.11 dB.\n",
    "\n",
    "#### 1.2.2.3. Choice of transmitting antenna\n",
    "There are many different types of antennas, all differentiating for shape, gain, beamwidth. For this example, the downlink is evaluated, hence the transmitting antenna is the one mounted on the satellite. It is an omnidirectional antenna with gain $G_{t}$ of 2.15 dB and beamwidth of 156.0 deg.\n",
    "\n",
    "#### 1.2.2.4. The EIRP (Equivalent Isotropic Radiated Power) of the antenna\n",
    "\n",
    "Considering the values previously calculated, the EIRP (Equivalent Isotropic Radiated Power) can be calculated with the following formula (in dB):\n",
    "\n",
    "$$\n",
    "EIRP_{TX}=P_{TX}+G_{TX}-L_{TX}\n",
    "$$\n",
    "\n",
    "The resulting EIRP is 14.8112125472 dB\n",
    "\n",
    "\n",
    "### 1.2.3. Link losses\n",
    "A signal loses power when travelling through space for various reasons. Losses include dispersion in space, atmosphere absorption, offset of the antennas, etc.\n",
    "For this case, the following losses have been considered as inputs:\n",
    "- Ionosphere loss $L_{ion} = 0.4 [dB]$\n",
    "- Atmosphere loss $L_{atmo} = 2.1 [dB]$\n",
    "- Rain loss $L_{rain} = 0.1 [dB]$\n",
    "- Polarisation loss $L_{pol} = 0.3 [dB]$\n",
    "Other losses were estimated with the following mathematical models.\n",
    "\n",
    "@Include AIME's models and NEW SMAD Spreadsheet results"
   ]
  },
  {
   "cell_type": "markdown",
   "metadata": {},
   "source": [
    "#### 1.2.3.2. Path losses\n",
    "Part of the losses of a signal when travelling between the transmitter and the receiver is only due to their distance and the type of link. The path losses are calculated with the formula:\n",
    "\n",
    "$$\n",
    "L_{path}=22+10\\log_{10}(\\frac{S}{\\lambda})^2\n",
    "$$\n",
    "\n",
    "where $\\lambda$ is the wavelength and S is the slant range, calculated as:\n",
    "\n",
    "$$\n",
    "S=R_E[\\sqrt{\\frac{(R_E+h)^2}{R_E^2}-\\cos^2(\\delta)}-\\sin(\\delta)]\n",
    "$$\n",
    "\n",
    "\n",
    "Hence, considering an orbital mean altitude h of 1122.0 km, a ground station minimum elevation angle $\\delta$ of 12.0 deg, the slant range is 2836.8172248 km.\n",
    "Using this value, together with a wavelength of 0.0375 m, the resulting path losses are 179.57600175 dB."
   ]
  },
  {
   "cell_type": "markdown",
   "metadata": {},
   "source": [
    "#### 1.2.3.3. Total space losses\n",
    "Summing up all the contributes, it is possible to express the total space losses as:\n",
    "\n",
    "$$\n",
    "L_{space}=L_{ion}+L_{atmo}+L_{rain}+L_{polar}+L_{point}+L_{path}\n",
    "$$\n",
    "\n",
    "The resulting value is 182.689335083 dB"
   ]
  },
  {
   "cell_type": "markdown",
   "metadata": {},
   "source": [
    "### 1.2.4. Receiving system\n",
    "#### 1.2.4.1. Choice of receiving antenna\n",
    "Since the analysis is focused on the downlink, the receiving antenna is ground based. The system chose is a parabolic antenna with gain 24.0 dB and beamwidth 15.0 deg.\n",
    "\n",
    "#### 1.2.4.2. System noise temperature\n",
    "To evaluate the receiving system noise temperature, it is possible to use the following formula:\n",
    "\n",
    "$$\n",
    "T_{rx}=T_{ant}+T_0\\frac{F-L_{RX}}{L_RX}\n",
    "$$\n",
    "\n",
    "In the case presented, the receiving antenna noise temperature is 273.0 K, the reference temperature is 290.0 K, the noise figure F is 3.0 dB and the losses between the receiving antenna and the receiver are 4.0 dB. This results in a receiving system temperature of ﻿200.5 K﻿."
   ]
  },
  {
   "cell_type": "markdown",
   "metadata": {},
   "source": [
    "1.2.4.3. Evaluation of the Eb/N0\n",
    "The ratio between received power and noise can be evaluated with the following\n",
    "formula:\n",
    "\n",
    "$$\n",
    "\\frac{E_b}{N_0}=EIRP_{TX}+G_{RX}-L_{space}-10\\log_{10}(T_{RX})-10\\log_{10}(k_B)-10\\log_{10}(R_D)\n",
    "$$\n",
    "\n",
    "Considering the data already presented, and keeping in mind that k_B =1.38064852e-23 J/K, the Eb/N0 ratio is 40.7308022477 dB. Now, depending on\n",
    "the modulation algorithm chosen, a minimum Eb/N0 will be necessary so that the Bit Error Rate (BER) remains to acceptable levels. In this case, the required value is 21.0 dB. The link margin is calculated with:\n",
    "\n",
    "$$\n",
    "LM=(\\frac{E_b}{N_0})-(\\frac{E_b}{N_0})_{required}\n",
    "$$\n",
    "\n",
    "giving a value of ﻿19.7308022477 dB﻿. This value is higher than the requirement of 6 dB for a good link."
   ]
  },
  {
   "cell_type": "markdown",
   "metadata": {},
   "source": [
    "## 1.3. Design for uplink\n",
    "The process to design the uplink is analogous, although the transmitting\n",
    "system will be the ground antenna and the receiving system will be the satellite.\n",
    "For this case, the link margin is ﻿14.1279508167 dB﻿, which is again above the\n",
    "requirement of 6 dB for a good connection."
   ]
  },
  {
   "cell_type": "markdown",
   "metadata": {},
   "source": [
    "# References\n",
    "\n",
    " - Space Mission Analysis and Design (SMAD), 3rd Ed., James R. Wertz and Wiley J. Larson (1999)\n",
    " - https://www.valispace.com/learn-how-to-design-satellite-systems-with-these-tutorials/ 2018\n",
    "\n"
   ]
  }
 ],
 "metadata": {
  "kernelspec": {
   "display_name": "base",
   "language": "python",
   "name": "python3"
  },
  "language_info": {
   "codemirror_mode": {
    "name": "ipython",
    "version": 3
   },
   "file_extension": ".py",
   "mimetype": "text/x-python",
   "name": "python",
   "nbconvert_exporter": "python",
   "pygments_lexer": "ipython3",
   "version": "3.11.5"
  }
 },
 "nbformat": 4,
 "nbformat_minor": 2
}
